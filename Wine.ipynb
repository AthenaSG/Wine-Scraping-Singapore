{
 "cells": [
  {
   "cell_type": "code",
   "execution_count": 1,
   "id": "762ed8db",
   "metadata": {},
   "outputs": [],
   "source": [
    "import requests\n",
    "from bs4 import BeautifulSoup\n",
    "import pandas as pd\n",
    "import numpy as np\n",
    "import time\n",
    "from random import randint\n",
    "import random\n",
    "from proxy_checker import ProxyChecker"
   ]
  },
  {
   "cell_type": "code",
   "execution_count": null,
   "id": "cb3d3756",
   "metadata": {},
   "outputs": [],
   "source": [
    "# If you are planning to go through user input\n",
    "\n",
    "user_input = []\n",
    "\n",
    "while True:\n",
    "    user_dict = {}\n",
    "    search = input('Please input your wine name,vintage and quantity, all separated by a comma.\\n')\n",
    "    if len(search.split(',')) != 3:\n",
    "        print('Apologies, your input wasn\\'t in the correct format! \\n')\n",
    "        continue\n",
    "    else:\n",
    "        result = search.split(',')\n",
    "    user_dict['name'] = result[0].replace(' ', '_')\n",
    "    user_dict['vintage'] = result[1].replace(' ','')\n",
    "    user_dict['qty'] = result[2].replace(' ','')\n",
    "    user_input.append(user_dict)\n",
    "    confirmation = input('If that is all, please input confirm, else input continue.\\n')\n",
    "    if confirmation == 'confirm':\n",
    "        break\n",
    "    else:\n",
    "        continue\n",
    "        \n"
   ]
  },
  {
   "cell_type": "code",
   "execution_count": null,
   "id": "263ce52b",
   "metadata": {
    "scrolled": true
   },
   "outputs": [],
   "source": [
    "# If you are storing in a wine excel sheet previously\n",
    "\n",
    "user_input_df = pd.read_excel('wine.xlsx', usecols = 'A:C')\n",
    "\n",
    "user_input = [{'name':x.replace(' ','_'), 'vintage':str(y), 'qty':z}\n",
    "               for x,y,z in zip(user_input_df['Wine'],user_input_df['Vintage'],user_input_df['Quantity'])]"
   ]
  },
  {
   "cell_type": "code",
   "execution_count": 30,
   "id": "a8383406",
   "metadata": {},
   "outputs": [
    {
     "data": {
      "text/plain": [
       "[{'name': 'petrus', 'vintage': '2000', 'qty': '1'}]"
      ]
     },
     "execution_count": 30,
     "metadata": {},
     "output_type": "execute_result"
    }
   ],
   "source": [
    "user_input"
   ]
  },
  {
   "cell_type": "code",
   "execution_count": 31,
   "id": "75c1c500",
   "metadata": {},
   "outputs": [
    {
     "name": "stderr",
     "output_type": "stream",
     "text": [
      "C:\\Users\\User\\anaconda3\\lib\\site-packages\\urllib3\\connectionpool.py:1043: InsecureRequestWarning: Unverified HTTPS request is being made to host '159.203.35.22'. Adding certificate verification is strongly advised. See: https://urllib3.readthedocs.io/en/1.26.x/advanced-usage.html#ssl-warnings\n",
      "  warnings.warn(\n"
     ]
    },
    {
     "name": "stdout",
     "output_type": "stream",
     "text": [
      "petrus 8,919\n",
      "Bottle (750ml)\n"
     ]
    }
   ],
   "source": [
    "overall_df = pd.read_csv('wine_price_list.csv')\n",
    "\n",
    "agents = user_agents = [\n",
    "    'Mozilla/5.0 (Windows NT 6.3; WOW64) AppleWebKit/537.36 (KHTML, like Gecko) Chrome/59.0.3071.115 Safari/537.36',\n",
    "    'Mozilla/5.0 (Windows NT 10.0; Win64; x64) AppleWebKit/537.36 (KHTML, like Gecko) Chrome/109.0.0.0 Safari/537.36',\n",
    "    'Mozilla/5.0 (Macintosh; Intel Mac OS X 10_15_7) AppleWebKit/537.36 (KHTML, like Gecko) Chrome/109.0.0.0 Safari/537.36',\n",
    "    'Mozilla/5.0 (Windows NT 10.0; Win64; x64) AppleWebKit/537.36 (KHTML, like Gecko) Chrome/108.0.0.0 Safari/537.36',\n",
    "    'Mozilla/5.0 (Macintosh; Intel Mac OS X 10_15_7) AppleWebKit/537.36 (KHTML, like Gecko) Chrome/108.0.0.0 Safari/537.36',\n",
    "    'Mozilla/5.0 (X11; Linux x86_64) AppleWebKit/537.36 (KHTML, like Gecko) Chrome/108.0.0.0 Safari/537.36',\n",
    "    'Mozilla/5.0 (Macintosh; Intel Mac OS X 10_15_7) AppleWebKit/605.1.15 (KHTML, like Gecko) Version/16.1 Safari/605.1.15',\n",
    "    'Mozilla/5.0 (Macintosh; Intel Mac OS X 13_1) AppleWebKit/605.1.15 (KHTML, like Gecko) Version/16.1 Safari/605.1.15']\n",
    "\n",
    "proxies = [{'https': 'http://159.203.35.22:8080'},\n",
    "           {'https': 'http://5.161.181.70:8080'},\n",
    "          ]\n",
    "\n",
    "\n",
    "for i in range(len(user_input)):\n",
    "        \n",
    "    ## Parameters for search\n",
    "    base_URL = 'http://www.wine-searcher.com/find/'\n",
    "    name = user_input[i]['name']\n",
    "    if randint(0,100) >= 75:\n",
    "        name = name.replace('_', '+')\n",
    "    vintage = user_input[i]['vintage']\n",
    "    noAuction = '-/ni'\n",
    "    country = 'singapore'\n",
    "    qty = int(user_input[i]['qty'])\n",
    "    \n",
    "    agent = {\"User-Agent\": random.choice(user_agents)}\n",
    "    proxy = random.choice(proxies)\n",
    "\n",
    "    URL = base_URL + name + '/' + vintage + '/' + country + '/' + noAuction\n",
    "    \n",
    "    time.sleep(randint(30,60))\n",
    "    \n",
    "    \n",
    "    ## GET request\n",
    "    page = requests.get(URL, headers = agent, proxies = proxy, verify = False)\n",
    "\n",
    "    \n",
    "    ## Analyzing and decoding HTML\n",
    "    soup = BeautifulSoup(page.content, \"html.parser\")\n",
    "\n",
    "    results = soup.body.main.find(class_ = 'container pt-3 pb-3 px-md-0 pt-0')\\\n",
    "    .find(class_ = 'js-offers-container').find_all(class_ = 'offer-card__container')\n",
    "    \n",
    "    curated_results = []\n",
    "    chosen_result = ''\n",
    "    \n",
    "    ## Choosing bottles > magnum/case, but if you are a collector you can convert this to case very easily\n",
    "    \n",
    "    for i in results:\n",
    "        merchant = i.find(class_ = 'col1').find(class_ = 'offer-card__merchant-name').text \n",
    "        bottle = i.find(class_ = 'badge-bottle border badge-lg badge badge-pill')\n",
    "        magnum = i.find(class_ = 'badge-other border badge-lg badge badge-pill')\n",
    "        if bottle:\n",
    "            chosen_result = i\n",
    "            break\n",
    "        elif merchant == 'FINE+RARE Singapore' or magnum:\n",
    "            pass\n",
    "        else:\n",
    "            curated_results.append(i)\n",
    "    \n",
    "    if chosen_result == '':\n",
    "        if len(curated_results) == 0:\n",
    "            continue\n",
    "        chosen_result = curated_results[0] \n",
    "    \n",
    "    \n",
    "    ## Getting required price and calculations after\n",
    "    \n",
    "    price = chosen_result.find(class_ = 'col2 pl-0 pl-lg-3')\\\n",
    "    .find(class_ = 'price__detail price__detail_main small').find(class_ = 'price__integer-part align-middle').text\n",
    "    \n",
    "    if chosen_result.find(class_ = 'badge-cases border badge-lg badge badge-pill'):\n",
    "        bottles = chosen_result.find(class_ = 'badge-cases border badge-lg badge badge-pill').text\n",
    "    elif chosen_result.find(class_ = 'badge-bottle border badge-lg badge badge-pill'):\n",
    "        bottles = chosen_result.find(class_ = 'badge-bottle border badge-lg badge badge-pill').text\n",
    "    print(name,price)\n",
    "    print(bottles)\n",
    "    \n",
    "    ## Checking for duty/sales tax\n",
    "    \n",
    "    condition = chosen_result.find(class_ = 'col2 pl-0 pl-lg-3').find(class_ = 'price__tax-status text-muted small').text\n",
    "\n",
    "    ## Converting price to actual price based on type of case\n",
    "    \n",
    "    if price.find(',') != -1:\n",
    "        price = price.replace(',', '')\n",
    "    if bottles == 'Case of 6 Btls':\n",
    "        actual_price = round(int(price) / 6, 0)\n",
    "    elif bottles == 'Case of 12 Btls':\n",
    "        actual_price = round(int(price) / 12, 0)\n",
    "    elif bottles == 'Bottle (750ml)':\n",
    "        actual_price = round(int(price), 0)\n",
    "        \n",
    "    ## Assuming it's 15% alcohol\n",
    "\n",
    "    if condition == 'ex. duty and sales tax':\n",
    "        actual_price = round(1.08* (actual_price + 8.25),2)\n",
    "    elif condition == 'inc. 8% sales tax':\n",
    "        actual_price = round(actual_price,2)\n",
    "        \n",
    "    names = ['Name', 'Vintage', 'Qty', 'Price']\n",
    "    index = [name,vintage,qty,actual_price]\n",
    "\n",
    "    ind = {}\n",
    "\n",
    "    j = 0 \n",
    "    \n",
    "    ## Updating the dataframe if there is already such bottles in inventory\n",
    "    for i in names:\n",
    "        ind[i] = index[j]\n",
    "        j = j + 1\n",
    "\n",
    "    if overall_df[(overall_df['Vintage'] == int(vintage)) & (overall_df['Name'] == name)].empty:\n",
    "        overall_df.loc[len(overall_df)] = ind\n",
    "    else:\n",
    "        overall_df.loc[(overall_df['Vintage'] == int(vintage)) & (overall_df['Name'] == name), 'Qty'] += ind['Qty']\n",
    "        overall_df.loc[(overall_df['Vintage'] == int(vintage)) & (overall_df['Name'] == name), 'Price'] = ind['Price']"
   ]
  },
  {
   "cell_type": "code",
   "execution_count": 32,
   "id": "e90f8e28",
   "metadata": {},
   "outputs": [
    {
     "data": {
      "text/html": [
       "<div>\n",
       "<style scoped>\n",
       "    .dataframe tbody tr th:only-of-type {\n",
       "        vertical-align: middle;\n",
       "    }\n",
       "\n",
       "    .dataframe tbody tr th {\n",
       "        vertical-align: top;\n",
       "    }\n",
       "\n",
       "    .dataframe thead th {\n",
       "        text-align: right;\n",
       "    }\n",
       "</style>\n",
       "<table border=\"1\" class=\"dataframe\">\n",
       "  <thead>\n",
       "    <tr style=\"text-align: right;\">\n",
       "      <th></th>\n",
       "      <th>Name</th>\n",
       "      <th>Vintage</th>\n",
       "      <th>Qty</th>\n",
       "      <th>Price</th>\n",
       "    </tr>\n",
       "  </thead>\n",
       "  <tbody>\n",
       "    <tr>\n",
       "      <th>0</th>\n",
       "      <td>petrus</td>\n",
       "      <td>2000</td>\n",
       "      <td>2</td>\n",
       "      <td>9641.43</td>\n",
       "    </tr>\n",
       "  </tbody>\n",
       "</table>\n",
       "</div>"
      ],
      "text/plain": [
       "     Name  Vintage  Qty    Price\n",
       "0  petrus     2000    2  9641.43"
      ]
     },
     "execution_count": 32,
     "metadata": {},
     "output_type": "execute_result"
    }
   ],
   "source": [
    "overall_df"
   ]
  },
  {
   "cell_type": "code",
   "execution_count": 29,
   "id": "e6c70b99",
   "metadata": {},
   "outputs": [],
   "source": [
    "overall_df.to_csv('wine_price_list.csv',index = False)"
   ]
  }
 ],
 "metadata": {
  "kernelspec": {
   "display_name": "Python 3 (ipykernel)",
   "language": "python",
   "name": "python3"
  },
  "language_info": {
   "codemirror_mode": {
    "name": "ipython",
    "version": 3
   },
   "file_extension": ".py",
   "mimetype": "text/x-python",
   "name": "python",
   "nbconvert_exporter": "python",
   "pygments_lexer": "ipython3",
   "version": "3.10.9"
  }
 },
 "nbformat": 4,
 "nbformat_minor": 5
}
